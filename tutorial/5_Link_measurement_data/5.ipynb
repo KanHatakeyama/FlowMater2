{
 "cells": [
  {
   "cell_type": "markdown",
   "metadata": {},
   "source": [
    "# 5. Link to measurement data\n",
    "\n",
    "![graph](images/f.PNG) \n"
   ]
  },
  {
   "cell_type": "markdown",
   "metadata": {},
   "source": [
    "# Initialize module"
   ]
  },
  {
   "cell_type": "code",
   "execution_count": 21,
   "metadata": {},
   "outputs": [],
   "source": [
    "#add library path if necessary\n",
    "import sys\n",
    "sys.path.append(\"../../FlowMater/\")\n",
    "\n",
    "#load module\n",
    "from ExperimentManager import ExperimentManager"
   ]
  },
  {
   "cell_type": "code",
   "execution_count": 22,
   "metadata": {},
   "outputs": [
    {
     "name": "stdout",
     "output_type": "stream",
     "text": [
      "begin parsing graphml files\n",
      "Loading graphs\n",
      "Initiating FP compressor\n",
      "Calculating features\n",
      "Wall time: 147 ms\n"
     ]
    }
   ],
   "source": [
    "# automatically load and parse data in the database folder\n",
    "\n",
    "#path to the database folder (you can use wild cards, such as *)\n",
    "base_path=\"database/*/**\"\n",
    "\n",
    "#path to the keyword file\n",
    "json_path=\"database/lot_keywords.json\"\n",
    "\n",
    "#load graph data\n",
    "experiment_manager = ExperimentManager(base_path=base_path,json_path=json_path)\n",
    "%time experiment_manager.auto_load()"
   ]
  },
  {
   "cell_type": "code",
   "execution_count": 42,
   "metadata": {},
   "outputs": [
    {
     "data": {
      "text/html": [
       "<div>\n",
       "<style scoped>\n",
       "    .dataframe tbody tr th:only-of-type {\n",
       "        vertical-align: middle;\n",
       "    }\n",
       "\n",
       "    .dataframe tbody tr th {\n",
       "        vertical-align: top;\n",
       "    }\n",
       "\n",
       "    .dataframe thead th {\n",
       "        text-align: right;\n",
       "    }\n",
       "</style>\n",
       "<table border=\"1\" class=\"dataframe\">\n",
       "  <thead>\n",
       "    <tr style=\"text-align: right;\">\n",
       "      <th></th>\n",
       "      <th>MeasurementA_load_data</th>\n",
       "      <th>Slope</th>\n",
       "    </tr>\n",
       "  </thead>\n",
       "  <tbody>\n",
       "    <tr>\n",
       "      <th>normal_experiment0_database\\exp1\\exp1.graphml</th>\n",
       "      <td>database\\exp1/data.csv</td>\n",
       "      <td>1.161616</td>\n",
       "    </tr>\n",
       "    <tr>\n",
       "      <th>normal_experiment1_database\\exp2\\exp2.graphml</th>\n",
       "      <td>database\\exp2/data.csv</td>\n",
       "      <td>1.310632</td>\n",
       "    </tr>\n",
       "  </tbody>\n",
       "</table>\n",
       "</div>"
      ],
      "text/plain": [
       "                                               MeasurementA_load_data  \\\n",
       "normal_experiment0_database\\exp1\\exp1.graphml  database\\exp1/data.csv   \n",
       "normal_experiment1_database\\exp2\\exp2.graphml  database\\exp2/data.csv   \n",
       "\n",
       "                                                  Slope  \n",
       "normal_experiment0_database\\exp1\\exp1.graphml  1.161616  \n",
       "normal_experiment1_database\\exp2\\exp2.graphml  1.310632  "
      ]
     },
     "execution_count": 42,
     "metadata": {},
     "output_type": "execute_result"
    }
   ],
   "source": [
    "import pandas as pd\n",
    "#automatically converted dataframe\n",
    "df=experiment_manager.dataframe\n",
    "smart_df=df.loc[:,~(df.nunique()==1)]\n",
    "smart_df"
   ]
  },
  {
   "cell_type": "code",
   "execution_count": 51,
   "metadata": {},
   "outputs": [
    {
     "name": "stderr",
     "output_type": "stream",
     "text": [
      "C:\\Users\\kan\\Anaconda3\\envs\\FlowMater2\\lib\\site-packages\\ipykernel\\__main__.py:23: SettingWithCopyWarning: \n",
      "A value is trying to be set on a copy of a slice from a DataFrame.\n",
      "Try using .loc[row_indexer,col_indexer] = value instead\n",
      "\n",
      "See the caveats in the documentation: https://pandas.pydata.org/pandas-docs/stable/user_guide/indexing.html#returning-a-view-versus-a-copy\n"
     ]
    },
    {
     "data": {
      "image/png": "[encoded data removed]",
      "text/plain": [
       "<Figure size 432x288 with 1 Axes>"
      ]
     },
     "metadata": {
      "needs_background": "light"
     },
     "output_type": "display_data"
    }
   ],
   "source": [
    "# you will need prepare custom codes to parse each measurement data\n",
    "import matplotlib.pyplot as plt\n",
    "import numpy as np\n",
    "\n",
    "\n",
    "# for instance, analyze slope of each measurement data\n",
    "def auto_parse(path):\n",
    "    measurement_df=pd.read_csv(path)\n",
    "    x=measurement_df[\"X\"]\n",
    "    z=measurement_df[\"Z\"]\n",
    "    plt.scatter(x,z,label=path)\n",
    "    plt.xlabel(\"X\")\n",
    "    plt.ylabel(\"Z\")\n",
    "    slope=np.mean(z/x)\n",
    "    \n",
    "    return slope\n",
    "\n",
    "\n",
    "path_list=smart_df[\"MeasurementA_load_data\"]\n",
    "slope_list=[auto_parse(path) for path in path_list]\n",
    "plt.legend()\n",
    "\n",
    "smart_df[\"Slope\"]=slope_list\n"
   ]
  },
  {
   "cell_type": "code",
   "execution_count": 52,
   "metadata": {},
   "outputs": [
    {
     "data": {
      "text/html": [
       "<div>\n",
       "<style scoped>\n",
       "    .dataframe tbody tr th:only-of-type {\n",
       "        vertical-align: middle;\n",
       "    }\n",
       "\n",
       "    .dataframe tbody tr th {\n",
       "        vertical-align: top;\n",
       "    }\n",
       "\n",
       "    .dataframe thead th {\n",
       "        text-align: right;\n",
       "    }\n",
       "</style>\n",
       "<table border=\"1\" class=\"dataframe\">\n",
       "  <thead>\n",
       "    <tr style=\"text-align: right;\">\n",
       "      <th></th>\n",
       "      <th>MeasurementA_load_data</th>\n",
       "      <th>Slope</th>\n",
       "    </tr>\n",
       "  </thead>\n",
       "  <tbody>\n",
       "    <tr>\n",
       "      <th>normal_experiment0_database\\exp1\\exp1.graphml</th>\n",
       "      <td>database\\exp1/data.csv</td>\n",
       "      <td>1.161616</td>\n",
       "    </tr>\n",
       "    <tr>\n",
       "      <th>normal_experiment1_database\\exp2\\exp2.graphml</th>\n",
       "      <td>database\\exp2/data.csv</td>\n",
       "      <td>1.310632</td>\n",
       "    </tr>\n",
       "  </tbody>\n",
       "</table>\n",
       "</div>"
      ],
      "text/plain": [
       "                                               MeasurementA_load_data  \\\n",
       "normal_experiment0_database\\exp1\\exp1.graphml  database\\exp1/data.csv   \n",
       "normal_experiment1_database\\exp2\\exp2.graphml  database\\exp2/data.csv   \n",
       "\n",
       "                                                  Slope  \n",
       "normal_experiment0_database\\exp1\\exp1.graphml  1.161616  \n",
       "normal_experiment1_database\\exp2\\exp2.graphml  1.310632  "
      ]
     },
     "execution_count": 52,
     "metadata": {},
     "output_type": "execute_result"
    }
   ],
   "source": [
    "smart_df"
   ]
  }
 ],
 "metadata": {
  "kernelspec": {
   "display_name": "Environment (conda_flowmater2)",
   "language": "python",
   "name": "conda_flowmater2"
  },
  "language_info": {
   "codemirror_mode": {
    "name": "ipython",
    "version": 3
   },
   "file_extension": ".py",
   "mimetype": "text/x-python",
   "name": "python",
   "nbconvert_exporter": "python",
   "pygments_lexer": "ipython3",
   "version": "3.7.9"
  }
 },
 "nbformat": 4,
 "nbformat_minor": 4
}
